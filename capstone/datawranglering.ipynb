{
 "cells": [
  {
   "cell_type": "code",
   "execution_count": 1,
   "metadata": {},
   "outputs": [],
   "source": [
    "import os\n",
    "import shutil\n",
    "from tqdm import tqdm\n",
    "import numpy as np\n",
    "import pandas as pd\n",
    "import matplotlib.pyplot as plt\n",
    "import seaborn as sns\n"
   ]
  },
  {
   "cell_type": "markdown",
   "metadata": {},
   "source": [
    "# START to process test data"
   ]
  },
  {
   "cell_type": "code",
   "execution_count": 15,
   "metadata": {},
   "outputs": [
    {
     "data": {
      "text/html": [
       "<div>\n",
       "<style scoped>\n",
       "    .dataframe tbody tr th:only-of-type {\n",
       "        vertical-align: middle;\n",
       "    }\n",
       "\n",
       "    .dataframe tbody tr th {\n",
       "        vertical-align: top;\n",
       "    }\n",
       "\n",
       "    .dataframe thead th {\n",
       "        text-align: right;\n",
       "    }\n",
       "</style>\n",
       "<table border=\"1\" class=\"dataframe\">\n",
       "  <thead>\n",
       "    <tr style=\"text-align: right;\">\n",
       "      <th></th>\n",
       "      <th>id</th>\n",
       "      <th>landmark_id</th>\n",
       "      <th>filename</th>\n",
       "    </tr>\n",
       "  </thead>\n",
       "  <tbody>\n",
       "    <tr>\n",
       "      <th>0</th>\n",
       "      <td>000088da12d664db</td>\n",
       "      <td>None</td>\n",
       "      <td>data/testImages/000088da12d664db.jpg</td>\n",
       "    </tr>\n",
       "    <tr>\n",
       "      <th>1</th>\n",
       "      <td>0001623c6d808702</td>\n",
       "      <td>None</td>\n",
       "      <td>data/testImages/0001623c6d808702.jpg</td>\n",
       "    </tr>\n",
       "    <tr>\n",
       "      <th>2</th>\n",
       "      <td>0001bbb682d45002</td>\n",
       "      <td>None</td>\n",
       "      <td>data/testImages/0001bbb682d45002.jpg</td>\n",
       "    </tr>\n",
       "    <tr>\n",
       "      <th>3</th>\n",
       "      <td>0002362830cfe3a3</td>\n",
       "      <td>None</td>\n",
       "      <td>data/testImages/0002362830cfe3a3.jpg</td>\n",
       "    </tr>\n",
       "    <tr>\n",
       "      <th>4</th>\n",
       "      <td>000270c9100de789</td>\n",
       "      <td>None</td>\n",
       "      <td>data/testImages/000270c9100de789.jpg</td>\n",
       "    </tr>\n",
       "  </tbody>\n",
       "</table>\n",
       "</div>"
      ],
      "text/plain": [
       "                 id landmark_id                              filename\n",
       "0  000088da12d664db        None  data/testImages/000088da12d664db.jpg\n",
       "1  0001623c6d808702        None  data/testImages/0001623c6d808702.jpg\n",
       "2  0001bbb682d45002        None  data/testImages/0001bbb682d45002.jpg\n",
       "3  0002362830cfe3a3        None  data/testImages/0002362830cfe3a3.jpg\n",
       "4  000270c9100de789        None  data/testImages/000270c9100de789.jpg"
      ]
     },
     "metadata": {},
     "output_type": "display_data"
    },
    {
     "data": {
      "text/plain": [
       "(72041, 3)"
      ]
     },
     "metadata": {},
     "output_type": "display_data"
    }
   ],
   "source": [
    "test_list = pd.read_table('data/testImagesList',delim_whitespace=True, names=['id', 'landmark_id', 'filename'])\n",
    "display(test_list.head())\n",
    "display(test_list.shape)"
   ]
  },
  {
   "cell_type": "code",
   "execution_count": 21,
   "metadata": {},
   "outputs": [
    {
     "data": {
      "text/html": [
       "<div>\n",
       "<style scoped>\n",
       "    .dataframe tbody tr th:only-of-type {\n",
       "        vertical-align: middle;\n",
       "    }\n",
       "\n",
       "    .dataframe tbody tr th {\n",
       "        vertical-align: top;\n",
       "    }\n",
       "\n",
       "    .dataframe thead th {\n",
       "        text-align: right;\n",
       "    }\n",
       "</style>\n",
       "<table border=\"1\" class=\"dataframe\">\n",
       "  <thead>\n",
       "    <tr style=\"text-align: right;\">\n",
       "      <th></th>\n",
       "      <th>id</th>\n",
       "      <th>landmark_id</th>\n",
       "      <th>filename</th>\n",
       "    </tr>\n",
       "  </thead>\n",
       "  <tbody>\n",
       "    <tr>\n",
       "      <th>0</th>\n",
       "      <td>a021cc94ec926b14</td>\n",
       "      <td>None</td>\n",
       "      <td>data/testImages/a021cc94ec926b14.jpg</td>\n",
       "    </tr>\n",
       "    <tr>\n",
       "      <th>1</th>\n",
       "      <td>a022fcbcaf598db3</td>\n",
       "      <td>None</td>\n",
       "      <td>data/testImages/a022fcbcaf598db3.jpg</td>\n",
       "    </tr>\n",
       "    <tr>\n",
       "      <th>2</th>\n",
       "      <td>a02373108e5f12d2</td>\n",
       "      <td>None</td>\n",
       "      <td>data/testImages/a02373108e5f12d2.jpg</td>\n",
       "    </tr>\n",
       "    <tr>\n",
       "      <th>3</th>\n",
       "      <td>a023a337276591af</td>\n",
       "      <td>None</td>\n",
       "      <td>data/testImages/a023a337276591af.jpg</td>\n",
       "    </tr>\n",
       "    <tr>\n",
       "      <th>4</th>\n",
       "      <td>a023b2c56fe003ae</td>\n",
       "      <td>None</td>\n",
       "      <td>data/testImages/a023b2c56fe003ae.jpg</td>\n",
       "    </tr>\n",
       "  </tbody>\n",
       "</table>\n",
       "</div>"
      ],
      "text/plain": [
       "                 id landmark_id                              filename\n",
       "0  a021cc94ec926b14        None  data/testImages/a021cc94ec926b14.jpg\n",
       "1  a022fcbcaf598db3        None  data/testImages/a022fcbcaf598db3.jpg\n",
       "2  a02373108e5f12d2        None  data/testImages/a02373108e5f12d2.jpg\n",
       "3  a023a337276591af        None  data/testImages/a023a337276591af.jpg\n",
       "4  a023b2c56fe003ae        None  data/testImages/a023b2c56fe003ae.jpg"
      ]
     },
     "metadata": {},
     "output_type": "display_data"
    },
    {
     "data": {
      "text/plain": [
       "(43658, 3)"
      ]
     },
     "metadata": {},
     "output_type": "display_data"
    }
   ],
   "source": [
    "test_list_new = pd.read_table('data/testImagesList2', delim_whitespace=True, names=['id','landmark_id','filename'])\n",
    "display(test_list_new.head())\n",
    "display(test_list_new.shape)"
   ]
  },
  {
   "cell_type": "code",
   "execution_count": 22,
   "metadata": {},
   "outputs": [
    {
     "data": {
      "text/html": [
       "<div>\n",
       "<style scoped>\n",
       "    .dataframe tbody tr th:only-of-type {\n",
       "        vertical-align: middle;\n",
       "    }\n",
       "\n",
       "    .dataframe tbody tr th {\n",
       "        vertical-align: top;\n",
       "    }\n",
       "\n",
       "    .dataframe thead th {\n",
       "        text-align: right;\n",
       "    }\n",
       "</style>\n",
       "<table border=\"1\" class=\"dataframe\">\n",
       "  <thead>\n",
       "    <tr style=\"text-align: right;\">\n",
       "      <th></th>\n",
       "      <th>id</th>\n",
       "      <th>landmark_id</th>\n",
       "      <th>filename</th>\n",
       "    </tr>\n",
       "  </thead>\n",
       "  <tbody>\n",
       "    <tr>\n",
       "      <th>0</th>\n",
       "      <td>000088da12d664db</td>\n",
       "      <td>None</td>\n",
       "      <td>data/testImages/000088da12d664db.jpg</td>\n",
       "    </tr>\n",
       "    <tr>\n",
       "      <th>1</th>\n",
       "      <td>0001623c6d808702</td>\n",
       "      <td>None</td>\n",
       "      <td>data/testImages/0001623c6d808702.jpg</td>\n",
       "    </tr>\n",
       "    <tr>\n",
       "      <th>2</th>\n",
       "      <td>0001bbb682d45002</td>\n",
       "      <td>None</td>\n",
       "      <td>data/testImages/0001bbb682d45002.jpg</td>\n",
       "    </tr>\n",
       "    <tr>\n",
       "      <th>3</th>\n",
       "      <td>0002362830cfe3a3</td>\n",
       "      <td>None</td>\n",
       "      <td>data/testImages/0002362830cfe3a3.jpg</td>\n",
       "    </tr>\n",
       "    <tr>\n",
       "      <th>4</th>\n",
       "      <td>000270c9100de789</td>\n",
       "      <td>None</td>\n",
       "      <td>data/testImages/000270c9100de789.jpg</td>\n",
       "    </tr>\n",
       "  </tbody>\n",
       "</table>\n",
       "</div>"
      ],
      "text/plain": [
       "                 id landmark_id                              filename\n",
       "0  000088da12d664db        None  data/testImages/000088da12d664db.jpg\n",
       "1  0001623c6d808702        None  data/testImages/0001623c6d808702.jpg\n",
       "2  0001bbb682d45002        None  data/testImages/0001bbb682d45002.jpg\n",
       "3  0002362830cfe3a3        None  data/testImages/0002362830cfe3a3.jpg\n",
       "4  000270c9100de789        None  data/testImages/000270c9100de789.jpg"
      ]
     },
     "metadata": {},
     "output_type": "display_data"
    },
    {
     "data": {
      "text/plain": [
       "(115699, 3)"
      ]
     },
     "metadata": {},
     "output_type": "display_data"
    },
    {
     "data": {
      "text/html": [
       "<div>\n",
       "<style scoped>\n",
       "    .dataframe tbody tr th:only-of-type {\n",
       "        vertical-align: middle;\n",
       "    }\n",
       "\n",
       "    .dataframe tbody tr th {\n",
       "        vertical-align: top;\n",
       "    }\n",
       "\n",
       "    .dataframe thead th {\n",
       "        text-align: right;\n",
       "    }\n",
       "</style>\n",
       "<table border=\"1\" class=\"dataframe\">\n",
       "  <thead>\n",
       "    <tr style=\"text-align: right;\">\n",
       "      <th></th>\n",
       "      <th>id</th>\n",
       "      <th>landmark_id</th>\n",
       "      <th>filename</th>\n",
       "    </tr>\n",
       "  </thead>\n",
       "  <tbody>\n",
       "    <tr>\n",
       "      <th>115694</th>\n",
       "      <td>fffecaa7a64a1649</td>\n",
       "      <td>None</td>\n",
       "      <td>data/testImages/fffecaa7a64a1649.jpg</td>\n",
       "    </tr>\n",
       "    <tr>\n",
       "      <th>115695</th>\n",
       "      <td>ffff1a051dab1f7a</td>\n",
       "      <td>None</td>\n",
       "      <td>data/testImages/ffff1a051dab1f7a.jpg</td>\n",
       "    </tr>\n",
       "    <tr>\n",
       "      <th>115696</th>\n",
       "      <td>ffff2f7b0f69b804</td>\n",
       "      <td>None</td>\n",
       "      <td>data/testImages/ffff2f7b0f69b804.jpg</td>\n",
       "    </tr>\n",
       "    <tr>\n",
       "      <th>115697</th>\n",
       "      <td>ffff5d1e486c7226</td>\n",
       "      <td>None</td>\n",
       "      <td>data/testImages/ffff5d1e486c7226.jpg</td>\n",
       "    </tr>\n",
       "    <tr>\n",
       "      <th>115698</th>\n",
       "      <td>ffffd526f7e18b49</td>\n",
       "      <td>None</td>\n",
       "      <td>data/testImages/ffffd526f7e18b49.jpg</td>\n",
       "    </tr>\n",
       "  </tbody>\n",
       "</table>\n",
       "</div>"
      ],
      "text/plain": [
       "                      id landmark_id                              filename\n",
       "115694  fffecaa7a64a1649        None  data/testImages/fffecaa7a64a1649.jpg\n",
       "115695  ffff1a051dab1f7a        None  data/testImages/ffff1a051dab1f7a.jpg\n",
       "115696  ffff2f7b0f69b804        None  data/testImages/ffff2f7b0f69b804.jpg\n",
       "115697  ffff5d1e486c7226        None  data/testImages/ffff5d1e486c7226.jpg\n",
       "115698  ffffd526f7e18b49        None  data/testImages/ffffd526f7e18b49.jpg"
      ]
     },
     "metadata": {},
     "output_type": "display_data"
    },
    {
     "data": {
      "text/html": [
       "<div>\n",
       "<style scoped>\n",
       "    .dataframe tbody tr th:only-of-type {\n",
       "        vertical-align: middle;\n",
       "    }\n",
       "\n",
       "    .dataframe tbody tr th {\n",
       "        vertical-align: top;\n",
       "    }\n",
       "\n",
       "    .dataframe thead th {\n",
       "        text-align: right;\n",
       "    }\n",
       "</style>\n",
       "<table border=\"1\" class=\"dataframe\">\n",
       "  <thead>\n",
       "    <tr style=\"text-align: right;\">\n",
       "      <th></th>\n",
       "      <th>id</th>\n",
       "      <th>landmark_id</th>\n",
       "      <th>filename</th>\n",
       "    </tr>\n",
       "  </thead>\n",
       "  <tbody>\n",
       "    <tr>\n",
       "      <th>0</th>\n",
       "      <td>000088da12d664db</td>\n",
       "      <td>None</td>\n",
       "      <td>data/testImages/000088da12d664db.jpg</td>\n",
       "    </tr>\n",
       "    <tr>\n",
       "      <th>1</th>\n",
       "      <td>0001623c6d808702</td>\n",
       "      <td>None</td>\n",
       "      <td>data/testImages/0001623c6d808702.jpg</td>\n",
       "    </tr>\n",
       "    <tr>\n",
       "      <th>2</th>\n",
       "      <td>0001bbb682d45002</td>\n",
       "      <td>None</td>\n",
       "      <td>data/testImages/0001bbb682d45002.jpg</td>\n",
       "    </tr>\n",
       "    <tr>\n",
       "      <th>3</th>\n",
       "      <td>0002362830cfe3a3</td>\n",
       "      <td>None</td>\n",
       "      <td>data/testImages/0002362830cfe3a3.jpg</td>\n",
       "    </tr>\n",
       "    <tr>\n",
       "      <th>4</th>\n",
       "      <td>000270c9100de789</td>\n",
       "      <td>None</td>\n",
       "      <td>data/testImages/000270c9100de789.jpg</td>\n",
       "    </tr>\n",
       "  </tbody>\n",
       "</table>\n",
       "</div>"
      ],
      "text/plain": [
       "                 id landmark_id                              filename\n",
       "0  000088da12d664db        None  data/testImages/000088da12d664db.jpg\n",
       "1  0001623c6d808702        None  data/testImages/0001623c6d808702.jpg\n",
       "2  0001bbb682d45002        None  data/testImages/0001bbb682d45002.jpg\n",
       "3  0002362830cfe3a3        None  data/testImages/0002362830cfe3a3.jpg\n",
       "4  000270c9100de789        None  data/testImages/000270c9100de789.jpg"
      ]
     },
     "metadata": {},
     "output_type": "display_data"
    },
    {
     "data": {
      "text/plain": [
       "(115698, 3)"
      ]
     },
     "metadata": {},
     "output_type": "display_data"
    },
    {
     "data": {
      "text/html": [
       "<div>\n",
       "<style scoped>\n",
       "    .dataframe tbody tr th:only-of-type {\n",
       "        vertical-align: middle;\n",
       "    }\n",
       "\n",
       "    .dataframe tbody tr th {\n",
       "        vertical-align: top;\n",
       "    }\n",
       "\n",
       "    .dataframe thead th {\n",
       "        text-align: right;\n",
       "    }\n",
       "</style>\n",
       "<table border=\"1\" class=\"dataframe\">\n",
       "  <thead>\n",
       "    <tr style=\"text-align: right;\">\n",
       "      <th></th>\n",
       "      <th>id</th>\n",
       "      <th>landmark_id</th>\n",
       "      <th>filename</th>\n",
       "    </tr>\n",
       "  </thead>\n",
       "  <tbody>\n",
       "    <tr>\n",
       "      <th>115694</th>\n",
       "      <td>fffecaa7a64a1649</td>\n",
       "      <td>None</td>\n",
       "      <td>data/testImages/fffecaa7a64a1649.jpg</td>\n",
       "    </tr>\n",
       "    <tr>\n",
       "      <th>115695</th>\n",
       "      <td>ffff1a051dab1f7a</td>\n",
       "      <td>None</td>\n",
       "      <td>data/testImages/ffff1a051dab1f7a.jpg</td>\n",
       "    </tr>\n",
       "    <tr>\n",
       "      <th>115696</th>\n",
       "      <td>ffff2f7b0f69b804</td>\n",
       "      <td>None</td>\n",
       "      <td>data/testImages/ffff2f7b0f69b804.jpg</td>\n",
       "    </tr>\n",
       "    <tr>\n",
       "      <th>115697</th>\n",
       "      <td>ffff5d1e486c7226</td>\n",
       "      <td>None</td>\n",
       "      <td>data/testImages/ffff5d1e486c7226.jpg</td>\n",
       "    </tr>\n",
       "    <tr>\n",
       "      <th>115698</th>\n",
       "      <td>ffffd526f7e18b49</td>\n",
       "      <td>None</td>\n",
       "      <td>data/testImages/ffffd526f7e18b49.jpg</td>\n",
       "    </tr>\n",
       "  </tbody>\n",
       "</table>\n",
       "</div>"
      ],
      "text/plain": [
       "                      id landmark_id                              filename\n",
       "115694  fffecaa7a64a1649        None  data/testImages/fffecaa7a64a1649.jpg\n",
       "115695  ffff1a051dab1f7a        None  data/testImages/ffff1a051dab1f7a.jpg\n",
       "115696  ffff2f7b0f69b804        None  data/testImages/ffff2f7b0f69b804.jpg\n",
       "115697  ffff5d1e486c7226        None  data/testImages/ffff5d1e486c7226.jpg\n",
       "115698  ffffd526f7e18b49        None  data/testImages/ffffd526f7e18b49.jpg"
      ]
     },
     "metadata": {},
     "output_type": "display_data"
    }
   ],
   "source": [
    "test_list_result = test_list.append(test_list_new, ignore_index=True)\n",
    "display(test_list_result.head())\n",
    "display(test_list_result.shape)\n",
    "display(test_list_result.tail())\n",
    "test_list_result = test_list_result.drop_duplicates()\n",
    "display(test_list_result.head())\n",
    "display(test_list_result.shape)\n",
    "display(test_list_result.tail())"
   ]
  },
  {
   "cell_type": "code",
   "execution_count": 23,
   "metadata": {},
   "outputs": [
    {
     "data": {
      "text/html": [
       "<div>\n",
       "<style scoped>\n",
       "    .dataframe tbody tr th:only-of-type {\n",
       "        vertical-align: middle;\n",
       "    }\n",
       "\n",
       "    .dataframe tbody tr th {\n",
       "        vertical-align: top;\n",
       "    }\n",
       "\n",
       "    .dataframe thead th {\n",
       "        text-align: right;\n",
       "    }\n",
       "</style>\n",
       "<table border=\"1\" class=\"dataframe\">\n",
       "  <thead>\n",
       "    <tr style=\"text-align: right;\">\n",
       "      <th></th>\n",
       "      <th>id</th>\n",
       "      <th>landmark_id</th>\n",
       "      <th>filename</th>\n",
       "    </tr>\n",
       "  </thead>\n",
       "  <tbody>\n",
       "    <tr>\n",
       "      <th>0</th>\n",
       "      <td>000088da12d664db</td>\n",
       "      <td>None</td>\n",
       "      <td>data/testImages/000088da12d664db.jpg</td>\n",
       "    </tr>\n",
       "    <tr>\n",
       "      <th>1</th>\n",
       "      <td>0001623c6d808702</td>\n",
       "      <td>None</td>\n",
       "      <td>data/testImages/0001623c6d808702.jpg</td>\n",
       "    </tr>\n",
       "    <tr>\n",
       "      <th>2</th>\n",
       "      <td>0001bbb682d45002</td>\n",
       "      <td>None</td>\n",
       "      <td>data/testImages/0001bbb682d45002.jpg</td>\n",
       "    </tr>\n",
       "    <tr>\n",
       "      <th>3</th>\n",
       "      <td>0002362830cfe3a3</td>\n",
       "      <td>None</td>\n",
       "      <td>data/testImages/0002362830cfe3a3.jpg</td>\n",
       "    </tr>\n",
       "    <tr>\n",
       "      <th>4</th>\n",
       "      <td>000270c9100de789</td>\n",
       "      <td>None</td>\n",
       "      <td>data/testImages/000270c9100de789.jpg</td>\n",
       "    </tr>\n",
       "  </tbody>\n",
       "</table>\n",
       "</div>"
      ],
      "text/plain": [
       "                 id landmark_id                              filename\n",
       "0  000088da12d664db        None  data/testImages/000088da12d664db.jpg\n",
       "1  0001623c6d808702        None  data/testImages/0001623c6d808702.jpg\n",
       "2  0001bbb682d45002        None  data/testImages/0001bbb682d45002.jpg\n",
       "3  0002362830cfe3a3        None  data/testImages/0002362830cfe3a3.jpg\n",
       "4  000270c9100de789        None  data/testImages/000270c9100de789.jpg"
      ]
     },
     "metadata": {},
     "output_type": "display_data"
    },
    {
     "data": {
      "text/plain": [
       "(115698, 3)"
      ]
     },
     "metadata": {},
     "output_type": "display_data"
    }
   ],
   "source": [
    "test_list_result.to_csv('data/testImagesList_final', index=False)\n",
    "test_final = pd.read_csv('data/testImagesList_final')\n",
    "display(test_final.head())\n",
    "display(test_final.shape)"
   ]
  },
  {
   "cell_type": "code",
   "execution_count": 2,
   "metadata": {},
   "outputs": [],
   "source": [
    "test_downloaded = pd.read_csv('data/testImagesList')\n",
    "test_original = pd.read_csv('data/test/test.csv')"
   ]
  },
  {
   "cell_type": "code",
   "execution_count": 20,
   "metadata": {},
   "outputs": [
    {
     "data": {
      "text/html": [
       "<div>\n",
       "<style scoped>\n",
       "    .dataframe tbody tr th:only-of-type {\n",
       "        vertical-align: middle;\n",
       "    }\n",
       "\n",
       "    .dataframe tbody tr th {\n",
       "        vertical-align: top;\n",
       "    }\n",
       "\n",
       "    .dataframe thead th {\n",
       "        text-align: right;\n",
       "    }\n",
       "</style>\n",
       "<table border=\"1\" class=\"dataframe\">\n",
       "  <thead>\n",
       "    <tr style=\"text-align: right;\">\n",
       "      <th></th>\n",
       "      <th>id</th>\n",
       "      <th>url</th>\n",
       "    </tr>\n",
       "  </thead>\n",
       "  <tbody>\n",
       "    <tr>\n",
       "      <th>31</th>\n",
       "      <td>00129c981f8e343f</td>\n",
       "      <td>https://lh3.googleusercontent.com/-1pnJtcFnlKo...</td>\n",
       "    </tr>\n",
       "    <tr>\n",
       "      <th>42</th>\n",
       "      <td>0017d8ef2a3acd3c</td>\n",
       "      <td>https://lh3.googleusercontent.com/-Sj8AfZFbi5M...</td>\n",
       "    </tr>\n",
       "    <tr>\n",
       "      <th>50</th>\n",
       "      <td>0019a87e323272b8</td>\n",
       "      <td>https://lh3.googleusercontent.com/--eE8fWDhO9s...</td>\n",
       "    </tr>\n",
       "    <tr>\n",
       "      <th>197</th>\n",
       "      <td>006fde4dfab795ec</td>\n",
       "      <td>https://lh3.googleusercontent.com/-49nKoHVUu80...</td>\n",
       "    </tr>\n",
       "    <tr>\n",
       "      <th>224</th>\n",
       "      <td>0081d3fb0d729efe</td>\n",
       "      <td>https://lh3.googleusercontent.com/-XQst1PsHe24...</td>\n",
       "    </tr>\n",
       "  </tbody>\n",
       "</table>\n",
       "</div>"
      ],
      "text/plain": [
       "                   id                                                url\n",
       "31   00129c981f8e343f  https://lh3.googleusercontent.com/-1pnJtcFnlKo...\n",
       "42   0017d8ef2a3acd3c  https://lh3.googleusercontent.com/-Sj8AfZFbi5M...\n",
       "50   0019a87e323272b8  https://lh3.googleusercontent.com/--eE8fWDhO9s...\n",
       "197  006fde4dfab795ec  https://lh3.googleusercontent.com/-49nKoHVUu80...\n",
       "224  0081d3fb0d729efe  https://lh3.googleusercontent.com/-XQst1PsHe24..."
      ]
     },
     "metadata": {},
     "output_type": "display_data"
    },
    {
     "data": {
      "text/plain": [
       "(2005, 2)"
      ]
     },
     "metadata": {},
     "output_type": "display_data"
    }
   ],
   "source": [
    "# test_not_downloaded = test_downloaded['id'].append(test_original['id'])\n",
    "test_not_downloaded = test_original[~test_original['id'].isin(test_downloaded['id'])]\n",
    "\n",
    "display(test_not_downloaded.head())\n",
    "display(test_not_downloaded.shape)\n",
    "test_not_downloaded.to_csv('data/testImagesList_not_download', index=False)"
   ]
  },
  {
   "cell_type": "code",
   "execution_count": 21,
   "metadata": {},
   "outputs": [
    {
     "data": {
      "text/plain": [
       "(2005, 2)"
      ]
     },
     "metadata": {},
     "output_type": "display_data"
    },
    {
     "data": {
      "text/html": [
       "<div>\n",
       "<style scoped>\n",
       "    .dataframe tbody tr th:only-of-type {\n",
       "        vertical-align: middle;\n",
       "    }\n",
       "\n",
       "    .dataframe tbody tr th {\n",
       "        vertical-align: top;\n",
       "    }\n",
       "\n",
       "    .dataframe thead th {\n",
       "        text-align: right;\n",
       "    }\n",
       "</style>\n",
       "<table border=\"1\" class=\"dataframe\">\n",
       "  <thead>\n",
       "    <tr style=\"text-align: right;\">\n",
       "      <th></th>\n",
       "      <th>id</th>\n",
       "      <th>url</th>\n",
       "    </tr>\n",
       "  </thead>\n",
       "  <tbody>\n",
       "    <tr>\n",
       "      <th>0</th>\n",
       "      <td>00129c981f8e343f</td>\n",
       "      <td>https://lh3.googleusercontent.com/-1pnJtcFnlKo...</td>\n",
       "    </tr>\n",
       "    <tr>\n",
       "      <th>1</th>\n",
       "      <td>0017d8ef2a3acd3c</td>\n",
       "      <td>https://lh3.googleusercontent.com/-Sj8AfZFbi5M...</td>\n",
       "    </tr>\n",
       "    <tr>\n",
       "      <th>2</th>\n",
       "      <td>0019a87e323272b8</td>\n",
       "      <td>https://lh3.googleusercontent.com/--eE8fWDhO9s...</td>\n",
       "    </tr>\n",
       "    <tr>\n",
       "      <th>3</th>\n",
       "      <td>006fde4dfab795ec</td>\n",
       "      <td>https://lh3.googleusercontent.com/-49nKoHVUu80...</td>\n",
       "    </tr>\n",
       "    <tr>\n",
       "      <th>4</th>\n",
       "      <td>0081d3fb0d729efe</td>\n",
       "      <td>https://lh3.googleusercontent.com/-XQst1PsHe24...</td>\n",
       "    </tr>\n",
       "  </tbody>\n",
       "</table>\n",
       "</div>"
      ],
      "text/plain": [
       "                 id                                                url\n",
       "0  00129c981f8e343f  https://lh3.googleusercontent.com/-1pnJtcFnlKo...\n",
       "1  0017d8ef2a3acd3c  https://lh3.googleusercontent.com/-Sj8AfZFbi5M...\n",
       "2  0019a87e323272b8  https://lh3.googleusercontent.com/--eE8fWDhO9s...\n",
       "3  006fde4dfab795ec  https://lh3.googleusercontent.com/-49nKoHVUu80...\n",
       "4  0081d3fb0d729efe  https://lh3.googleusercontent.com/-XQst1PsHe24..."
      ]
     },
     "metadata": {},
     "output_type": "display_data"
    }
   ],
   "source": [
    "t_not_d = pd.read_csv('data/testImagesList_not_download')\n",
    "display(t_not_d.shape)\n",
    "display(t_not_d.head())"
   ]
  },
  {
   "cell_type": "code",
   "execution_count": null,
   "metadata": {},
   "outputs": [
    {
     "name": "stderr",
     "output_type": "stream",
     "text": [
      " 60%|████████████████████▉              | 26072/43658 [02:11<01:28, 198.56it/s]"
     ]
    }
   ],
   "source": [
    "# move files from A directory to b directory\n",
    "# for file in os.listdir(\"data/train/trainImages2\"):\n",
    "for root, dirs, files in os.walk(\"data/testImages_new\"):\n",
    "#     print(root)\n",
    "#     print(dirs)\n",
    "#     print(files[0])\n",
    "    for file in tqdm(files, total = len(files)):\n",
    "        shutil.move(\"data/testImages_new/\"+str(file), \"data/testImages/\"+str(file))"
   ]
  },
  {
   "cell_type": "markdown",
   "metadata": {},
   "source": [
    "# START to process train data\n",
    "###########################################\n",
    "\n"
   ]
  },
  {
   "cell_type": "code",
   "execution_count": 20,
   "metadata": {},
   "outputs": [
    {
     "data": {
      "text/html": [
       "<div>\n",
       "<style scoped>\n",
       "    .dataframe tbody tr th:only-of-type {\n",
       "        vertical-align: middle;\n",
       "    }\n",
       "\n",
       "    .dataframe tbody tr th {\n",
       "        vertical-align: top;\n",
       "    }\n",
       "\n",
       "    .dataframe thead th {\n",
       "        text-align: right;\n",
       "    }\n",
       "</style>\n",
       "<table border=\"1\" class=\"dataframe\">\n",
       "  <thead>\n",
       "    <tr style=\"text-align: right;\">\n",
       "      <th></th>\n",
       "      <th>id</th>\n",
       "      <th>url</th>\n",
       "    </tr>\n",
       "  </thead>\n",
       "  <tbody>\n",
       "    <tr>\n",
       "      <th>0</th>\n",
       "      <td>000088da12d664db</td>\n",
       "      <td>https://lh3.googleusercontent.com/-k45wfamuhT8...</td>\n",
       "    </tr>\n",
       "    <tr>\n",
       "      <th>1</th>\n",
       "      <td>0001623c6d808702</td>\n",
       "      <td>https://lh3.googleusercontent.com/-OQ0ywv8KVIA...</td>\n",
       "    </tr>\n",
       "    <tr>\n",
       "      <th>2</th>\n",
       "      <td>0001bbb682d45002</td>\n",
       "      <td>https://lh3.googleusercontent.com/-kloLenz1xZk...</td>\n",
       "    </tr>\n",
       "    <tr>\n",
       "      <th>3</th>\n",
       "      <td>0002362830cfe3a3</td>\n",
       "      <td>https://lh3.googleusercontent.com/-N6z79jNZYTg...</td>\n",
       "    </tr>\n",
       "    <tr>\n",
       "      <th>4</th>\n",
       "      <td>000270c9100de789</td>\n",
       "      <td>https://lh3.googleusercontent.com/-keriHaVOq1U...</td>\n",
       "    </tr>\n",
       "  </tbody>\n",
       "</table>\n",
       "</div>"
      ],
      "text/plain": [
       "                 id                                                url\n",
       "0  000088da12d664db  https://lh3.googleusercontent.com/-k45wfamuhT8...\n",
       "1  0001623c6d808702  https://lh3.googleusercontent.com/-OQ0ywv8KVIA...\n",
       "2  0001bbb682d45002  https://lh3.googleusercontent.com/-kloLenz1xZk...\n",
       "3  0002362830cfe3a3  https://lh3.googleusercontent.com/-N6z79jNZYTg...\n",
       "4  000270c9100de789  https://lh3.googleusercontent.com/-keriHaVOq1U..."
      ]
     },
     "metadata": {},
     "output_type": "display_data"
    },
    {
     "data": {
      "text/plain": [
       "(117703, 2)"
      ]
     },
     "metadata": {},
     "output_type": "display_data"
    }
   ],
   "source": [
    "test_orig = pd.read_csv('data/test/test.csv')\n",
    "display(test_orig.head())\n",
    "display(test_orig.shape)"
   ]
  },
  {
   "cell_type": "code",
   "execution_count": 14,
   "metadata": {},
   "outputs": [
    {
     "data": {
      "text/html": [
       "<div>\n",
       "<style scoped>\n",
       "    .dataframe tbody tr th:only-of-type {\n",
       "        vertical-align: middle;\n",
       "    }\n",
       "\n",
       "    .dataframe tbody tr th {\n",
       "        vertical-align: top;\n",
       "    }\n",
       "\n",
       "    .dataframe thead th {\n",
       "        text-align: right;\n",
       "    }\n",
       "</style>\n",
       "<table border=\"1\" class=\"dataframe\">\n",
       "  <thead>\n",
       "    <tr style=\"text-align: right;\">\n",
       "      <th></th>\n",
       "      <th>id</th>\n",
       "      <th>url</th>\n",
       "    </tr>\n",
       "  </thead>\n",
       "  <tbody>\n",
       "    <tr>\n",
       "      <th>73283</th>\n",
       "      <td>a021cc94ec926b14</td>\n",
       "      <td>https://lh3.googleusercontent.com/-JE6LCbZRtoc...</td>\n",
       "    </tr>\n",
       "  </tbody>\n",
       "</table>\n",
       "</div>"
      ],
      "text/plain": [
       "                     id                                                url\n",
       "73283  a021cc94ec926b14  https://lh3.googleusercontent.com/-JE6LCbZRtoc..."
      ]
     },
     "metadata": {},
     "output_type": "display_data"
    }
   ],
   "source": [
    "rows_t = test_orig.loc[test_orig['id']=='a021cc94ec926b14']\n",
    "display(rows_t)"
   ]
  },
  {
   "cell_type": "code",
   "execution_count": 7,
   "metadata": {},
   "outputs": [
    {
     "data": {
      "text/html": [
       "<div>\n",
       "<style scoped>\n",
       "    .dataframe tbody tr th:only-of-type {\n",
       "        vertical-align: middle;\n",
       "    }\n",
       "\n",
       "    .dataframe tbody tr th {\n",
       "        vertical-align: top;\n",
       "    }\n",
       "\n",
       "    .dataframe thead th {\n",
       "        text-align: right;\n",
       "    }\n",
       "</style>\n",
       "<table border=\"1\" class=\"dataframe\">\n",
       "  <thead>\n",
       "    <tr style=\"text-align: right;\">\n",
       "      <th></th>\n",
       "      <th>id</th>\n",
       "      <th>landmark_id</th>\n",
       "      <th>filename</th>\n",
       "    </tr>\n",
       "  </thead>\n",
       "  <tbody>\n",
       "    <tr>\n",
       "      <th>0</th>\n",
       "      <td>4cddf5dfec480378</td>\n",
       "      <td>10900</td>\n",
       "      <td>data/trainImages/4cddf5dfec480378.jpg</td>\n",
       "    </tr>\n",
       "    <tr>\n",
       "      <th>1</th>\n",
       "      <td>e892105697730cd0</td>\n",
       "      <td>9633</td>\n",
       "      <td>data/trainImages/e892105697730cd0.jpg</td>\n",
       "    </tr>\n",
       "    <tr>\n",
       "      <th>2</th>\n",
       "      <td>e6ca7e6d1fb0c30e</td>\n",
       "      <td>7979</td>\n",
       "      <td>data/trainImages/e6ca7e6d1fb0c30e.jpg</td>\n",
       "    </tr>\n",
       "    <tr>\n",
       "      <th>3</th>\n",
       "      <td>5b7e170e3f82df79</td>\n",
       "      <td>8487</td>\n",
       "      <td>data/trainImages/5b7e170e3f82df79.jpg</td>\n",
       "    </tr>\n",
       "    <tr>\n",
       "      <th>4</th>\n",
       "      <td>8bb30ed8ded320b5</td>\n",
       "      <td>10045</td>\n",
       "      <td>data/trainImages/8bb30ed8ded320b5.jpg</td>\n",
       "    </tr>\n",
       "  </tbody>\n",
       "</table>\n",
       "</div>"
      ],
      "text/plain": [
       "                 id  landmark_id                               filename\n",
       "0  4cddf5dfec480378        10900  data/trainImages/4cddf5dfec480378.jpg\n",
       "1  e892105697730cd0         9633  data/trainImages/e892105697730cd0.jpg\n",
       "2  e6ca7e6d1fb0c30e         7979  data/trainImages/e6ca7e6d1fb0c30e.jpg\n",
       "3  5b7e170e3f82df79         8487  data/trainImages/5b7e170e3f82df79.jpg\n",
       "4  8bb30ed8ded320b5        10045  data/trainImages/8bb30ed8ded320b5.jpg"
      ]
     },
     "metadata": {},
     "output_type": "display_data"
    },
    {
     "data": {
      "text/plain": [
       "(309322, 3)"
      ]
     },
     "metadata": {},
     "output_type": "display_data"
    },
    {
     "data": {
      "text/html": [
       "<div>\n",
       "<style scoped>\n",
       "    .dataframe tbody tr th:only-of-type {\n",
       "        vertical-align: middle;\n",
       "    }\n",
       "\n",
       "    .dataframe tbody tr th {\n",
       "        vertical-align: top;\n",
       "    }\n",
       "\n",
       "    .dataframe thead th {\n",
       "        text-align: right;\n",
       "    }\n",
       "</style>\n",
       "<table border=\"1\" class=\"dataframe\">\n",
       "  <thead>\n",
       "    <tr style=\"text-align: right;\">\n",
       "      <th></th>\n",
       "      <th>id</th>\n",
       "      <th>landmark_id</th>\n",
       "      <th>filename</th>\n",
       "    </tr>\n",
       "  </thead>\n",
       "  <tbody>\n",
       "    <tr>\n",
       "      <th>0</th>\n",
       "      <td>4cddf5dfec480378</td>\n",
       "      <td>10900</td>\n",
       "      <td>data/trainImages/4cddf5dfec480378.jpg</td>\n",
       "    </tr>\n",
       "    <tr>\n",
       "      <th>1</th>\n",
       "      <td>e892105697730cd0</td>\n",
       "      <td>9633</td>\n",
       "      <td>data/trainImages/e892105697730cd0.jpg</td>\n",
       "    </tr>\n",
       "    <tr>\n",
       "      <th>2</th>\n",
       "      <td>e6ca7e6d1fb0c30e</td>\n",
       "      <td>7979</td>\n",
       "      <td>data/trainImages/e6ca7e6d1fb0c30e.jpg</td>\n",
       "    </tr>\n",
       "    <tr>\n",
       "      <th>3</th>\n",
       "      <td>5b7e170e3f82df79</td>\n",
       "      <td>8487</td>\n",
       "      <td>data/trainImages/5b7e170e3f82df79.jpg</td>\n",
       "    </tr>\n",
       "    <tr>\n",
       "      <th>4</th>\n",
       "      <td>8bb30ed8ded320b5</td>\n",
       "      <td>10045</td>\n",
       "      <td>data/trainImages/8bb30ed8ded320b5.jpg</td>\n",
       "    </tr>\n",
       "  </tbody>\n",
       "</table>\n",
       "</div>"
      ],
      "text/plain": [
       "                 id  landmark_id                               filename\n",
       "0  4cddf5dfec480378        10900  data/trainImages/4cddf5dfec480378.jpg\n",
       "1  e892105697730cd0         9633  data/trainImages/e892105697730cd0.jpg\n",
       "2  e6ca7e6d1fb0c30e         7979  data/trainImages/e6ca7e6d1fb0c30e.jpg\n",
       "3  5b7e170e3f82df79         8487  data/trainImages/5b7e170e3f82df79.jpg\n",
       "4  8bb30ed8ded320b5        10045  data/trainImages/8bb30ed8ded320b5.jpg"
      ]
     },
     "metadata": {},
     "output_type": "display_data"
    },
    {
     "data": {
      "text/plain": [
       "(309322, 3)"
      ]
     },
     "metadata": {},
     "output_type": "display_data"
    },
    {
     "data": {
      "text/html": [
       "<div>\n",
       "<style scoped>\n",
       "    .dataframe tbody tr th:only-of-type {\n",
       "        vertical-align: middle;\n",
       "    }\n",
       "\n",
       "    .dataframe tbody tr th {\n",
       "        vertical-align: top;\n",
       "    }\n",
       "\n",
       "    .dataframe thead th {\n",
       "        text-align: right;\n",
       "    }\n",
       "</style>\n",
       "<table border=\"1\" class=\"dataframe\">\n",
       "  <thead>\n",
       "    <tr style=\"text-align: right;\">\n",
       "      <th></th>\n",
       "      <th>id</th>\n",
       "      <th>landmark_id</th>\n",
       "      <th>filename</th>\n",
       "    </tr>\n",
       "  </thead>\n",
       "  <tbody>\n",
       "    <tr>\n",
       "      <th>309317</th>\n",
       "      <td>f2bad43856de8694</td>\n",
       "      <td>5324</td>\n",
       "      <td>data/trainImages/f2bad43856de8694.jpg</td>\n",
       "    </tr>\n",
       "    <tr>\n",
       "      <th>309318</th>\n",
       "      <td>12d69a93f13118cb</td>\n",
       "      <td>9779</td>\n",
       "      <td>data/trainImages/12d69a93f13118cb.jpg</td>\n",
       "    </tr>\n",
       "    <tr>\n",
       "      <th>309319</th>\n",
       "      <td>36d6c031b3035bdf</td>\n",
       "      <td>3950</td>\n",
       "      <td>data/trainImages/36d6c031b3035bdf.jpg</td>\n",
       "    </tr>\n",
       "    <tr>\n",
       "      <th>309320</th>\n",
       "      <td>e76ddbfb7b5146d5</td>\n",
       "      <td>4946</td>\n",
       "      <td>data/trainImages/e76ddbfb7b5146d5.jpg</td>\n",
       "    </tr>\n",
       "    <tr>\n",
       "      <th>309321</th>\n",
       "      <td>70257f2724c36352</td>\n",
       "      <td>2476</td>\n",
       "      <td>data/trainImages/70257f2724c36352.jpg</td>\n",
       "    </tr>\n",
       "  </tbody>\n",
       "</table>\n",
       "</div>"
      ],
      "text/plain": [
       "                      id  landmark_id                               filename\n",
       "309317  f2bad43856de8694         5324  data/trainImages/f2bad43856de8694.jpg\n",
       "309318  12d69a93f13118cb         9779  data/trainImages/12d69a93f13118cb.jpg\n",
       "309319  36d6c031b3035bdf         3950  data/trainImages/36d6c031b3035bdf.jpg\n",
       "309320  e76ddbfb7b5146d5         4946  data/trainImages/e76ddbfb7b5146d5.jpg\n",
       "309321  70257f2724c36352         2476  data/trainImages/70257f2724c36352.jpg"
      ]
     },
     "metadata": {},
     "output_type": "display_data"
    }
   ],
   "source": [
    "train_list = pd.read_csv('data/trainImagesList')\n",
    "display(train_list.head())\n",
    "display(train_list.shape)\n",
    "train_list_result = train_list.drop_duplicates()\n",
    "display(train_list_result.head())\n",
    "display(train_list_result.shape)\n",
    "display(train_list_result.tail())"
   ]
  },
  {
   "cell_type": "code",
   "execution_count": 10,
   "metadata": {},
   "outputs": [
    {
     "data": {
      "text/html": [
       "<div>\n",
       "<style scoped>\n",
       "    .dataframe tbody tr th:only-of-type {\n",
       "        vertical-align: middle;\n",
       "    }\n",
       "\n",
       "    .dataframe tbody tr th {\n",
       "        vertical-align: top;\n",
       "    }\n",
       "\n",
       "    .dataframe thead th {\n",
       "        text-align: right;\n",
       "    }\n",
       "</style>\n",
       "<table border=\"1\" class=\"dataframe\">\n",
       "  <thead>\n",
       "    <tr style=\"text-align: right;\">\n",
       "      <th></th>\n",
       "      <th>id</th>\n",
       "      <th>url</th>\n",
       "      <th>landmark_id</th>\n",
       "    </tr>\n",
       "  </thead>\n",
       "  <tbody>\n",
       "    <tr>\n",
       "      <th>0</th>\n",
       "      <td>cacf8152e2d2ae60</td>\n",
       "      <td>http://static.panoramio.com/photos/original/70...</td>\n",
       "      <td>4676</td>\n",
       "    </tr>\n",
       "    <tr>\n",
       "      <th>1</th>\n",
       "      <td>0a58358a2afd3e4e</td>\n",
       "      <td>http://lh6.ggpht.com/-igpT6wu0mIA/ROV8HnUuABI/...</td>\n",
       "      <td>6651</td>\n",
       "    </tr>\n",
       "    <tr>\n",
       "      <th>2</th>\n",
       "      <td>6b2bb500b6a38aa0</td>\n",
       "      <td>http://lh6.ggpht.com/-vKr5G5MEusk/SR6r6SJi6mI/...</td>\n",
       "      <td>11284</td>\n",
       "    </tr>\n",
       "    <tr>\n",
       "      <th>3</th>\n",
       "      <td>b399f09dee9c3c67</td>\n",
       "      <td>https://lh3.googleusercontent.com/-LOW2cjAqubA...</td>\n",
       "      <td>8429</td>\n",
       "    </tr>\n",
       "    <tr>\n",
       "      <th>4</th>\n",
       "      <td>19ace29d77a5be66</td>\n",
       "      <td>https://lh5.googleusercontent.com/-tnmSXwQcWL8...</td>\n",
       "      <td>6231</td>\n",
       "    </tr>\n",
       "  </tbody>\n",
       "</table>\n",
       "</div>"
      ],
      "text/plain": [
       "                 id                                                url  \\\n",
       "0  cacf8152e2d2ae60  http://static.panoramio.com/photos/original/70...   \n",
       "1  0a58358a2afd3e4e  http://lh6.ggpht.com/-igpT6wu0mIA/ROV8HnUuABI/...   \n",
       "2  6b2bb500b6a38aa0  http://lh6.ggpht.com/-vKr5G5MEusk/SR6r6SJi6mI/...   \n",
       "3  b399f09dee9c3c67  https://lh3.googleusercontent.com/-LOW2cjAqubA...   \n",
       "4  19ace29d77a5be66  https://lh5.googleusercontent.com/-tnmSXwQcWL8...   \n",
       "\n",
       "   landmark_id  \n",
       "0         4676  \n",
       "1         6651  \n",
       "2        11284  \n",
       "3         8429  \n",
       "4         6231  "
      ]
     },
     "metadata": {},
     "output_type": "display_data"
    },
    {
     "data": {
      "text/plain": [
       "(1225029, 3)"
      ]
     },
     "metadata": {},
     "output_type": "display_data"
    }
   ],
   "source": [
    "train_orig = pd.read_csv('data/train/train.csv')\n",
    "display(train_orig.head())\n",
    "display(train_orig.shape)"
   ]
  },
  {
   "cell_type": "code",
   "execution_count": 11,
   "metadata": {},
   "outputs": [
    {
     "data": {
      "text/html": [
       "<div>\n",
       "<style scoped>\n",
       "    .dataframe tbody tr th:only-of-type {\n",
       "        vertical-align: middle;\n",
       "    }\n",
       "\n",
       "    .dataframe tbody tr th {\n",
       "        vertical-align: top;\n",
       "    }\n",
       "\n",
       "    .dataframe thead th {\n",
       "        text-align: right;\n",
       "    }\n",
       "</style>\n",
       "<table border=\"1\" class=\"dataframe\">\n",
       "  <thead>\n",
       "    <tr style=\"text-align: right;\">\n",
       "      <th></th>\n",
       "      <th>id</th>\n",
       "      <th>url</th>\n",
       "      <th>landmark_id</th>\n",
       "    </tr>\n",
       "  </thead>\n",
       "  <tbody>\n",
       "    <tr>\n",
       "      <th>150998</th>\n",
       "      <td>e76ddbfb7b5146d5</td>\n",
       "      <td>https://lh6.googleusercontent.com/-Rles6sQTUv0...</td>\n",
       "      <td>4946</td>\n",
       "    </tr>\n",
       "  </tbody>\n",
       "</table>\n",
       "</div>"
      ],
      "text/plain": [
       "                      id                                                url  \\\n",
       "150998  e76ddbfb7b5146d5  https://lh6.googleusercontent.com/-Rles6sQTUv0...   \n",
       "\n",
       "        landmark_id  \n",
       "150998         4946  "
      ]
     },
     "metadata": {},
     "output_type": "display_data"
    }
   ],
   "source": [
    "rows = train_orig.loc[train_orig['id'] == 'e76ddbfb7b5146d5']\n",
    "display(rows)"
   ]
  },
  {
   "cell_type": "code",
   "execution_count": 30,
   "metadata": {},
   "outputs": [
    {
     "name": "stderr",
     "output_type": "stream",
     "text": [
      "100%|███████████████████████████████████| 87410/87410 [04:07<00:00, 353.12it/s]\n"
     ]
    }
   ],
   "source": [
    "# move files from A directory to b directory\n",
    "# for file in os.listdir(\"data/train/trainImages2\"):\n",
    "for root, dirs, files in os.walk(\"data/trainImages_5\"):\n",
    "#     print(root)\n",
    "#     print(dirs)\n",
    "#     print(files[0])\n",
    "    for file in tqdm(files, total = len(files)):\n",
    "        shutil.move(\"data/trainImages_5/\"+str(file), \"data/trainImages/\"+str(file))"
   ]
  },
  {
   "cell_type": "code",
   "execution_count": 35,
   "metadata": {
    "scrolled": true
   },
   "outputs": [
    {
     "data": {
      "text/html": [
       "<div>\n",
       "<style scoped>\n",
       "    .dataframe tbody tr th:only-of-type {\n",
       "        vertical-align: middle;\n",
       "    }\n",
       "\n",
       "    .dataframe tbody tr th {\n",
       "        vertical-align: top;\n",
       "    }\n",
       "\n",
       "    .dataframe thead th {\n",
       "        text-align: right;\n",
       "    }\n",
       "</style>\n",
       "<table border=\"1\" class=\"dataframe\">\n",
       "  <thead>\n",
       "    <tr style=\"text-align: right;\">\n",
       "      <th></th>\n",
       "      <th>id</th>\n",
       "      <th>landmark_id</th>\n",
       "      <th>filename</th>\n",
       "    </tr>\n",
       "  </thead>\n",
       "  <tbody>\n",
       "    <tr>\n",
       "      <th>0</th>\n",
       "      <td>4cddf5dfec480378</td>\n",
       "      <td>10900</td>\n",
       "      <td>data/trainImages/4cddf5dfec480378.jpg</td>\n",
       "    </tr>\n",
       "    <tr>\n",
       "      <th>1</th>\n",
       "      <td>e892105697730cd0</td>\n",
       "      <td>9633</td>\n",
       "      <td>data/trainImages/e892105697730cd0.jpg</td>\n",
       "    </tr>\n",
       "    <tr>\n",
       "      <th>2</th>\n",
       "      <td>e6ca7e6d1fb0c30e</td>\n",
       "      <td>7979</td>\n",
       "      <td>data/trainImages/e6ca7e6d1fb0c30e.jpg</td>\n",
       "    </tr>\n",
       "    <tr>\n",
       "      <th>3</th>\n",
       "      <td>5b7e170e3f82df79</td>\n",
       "      <td>8487</td>\n",
       "      <td>data/trainImages/5b7e170e3f82df79.jpg</td>\n",
       "    </tr>\n",
       "    <tr>\n",
       "      <th>4</th>\n",
       "      <td>8bb30ed8ded320b5</td>\n",
       "      <td>10045</td>\n",
       "      <td>data/trainImages/8bb30ed8ded320b5.jpg</td>\n",
       "    </tr>\n",
       "  </tbody>\n",
       "</table>\n",
       "</div>"
      ],
      "text/plain": [
       "                 id  landmark_id                               filename\n",
       "0  4cddf5dfec480378        10900  data/trainImages/4cddf5dfec480378.jpg\n",
       "1  e892105697730cd0         9633  data/trainImages/e892105697730cd0.jpg\n",
       "2  e6ca7e6d1fb0c30e         7979  data/trainImages/e6ca7e6d1fb0c30e.jpg\n",
       "3  5b7e170e3f82df79         8487  data/trainImages/5b7e170e3f82df79.jpg\n",
       "4  8bb30ed8ded320b5        10045  data/trainImages/8bb30ed8ded320b5.jpg"
      ]
     },
     "metadata": {},
     "output_type": "display_data"
    },
    {
     "data": {
      "text/plain": [
       "(309322, 3)"
      ]
     },
     "metadata": {},
     "output_type": "display_data"
    }
   ],
   "source": [
    "# train = pd.read_table('data/trainImagesList',delim_whitespace=True, names=['id', 'landmark_id', 'filename'])\n",
    "train = pd.read_csv('data/trainImagesList')\n",
    "display(train.head())\n",
    "display(train.shape)"
   ]
  },
  {
   "cell_type": "code",
   "execution_count": 36,
   "metadata": {},
   "outputs": [
    {
     "data": {
      "text/html": [
       "<div>\n",
       "<style scoped>\n",
       "    .dataframe tbody tr th:only-of-type {\n",
       "        vertical-align: middle;\n",
       "    }\n",
       "\n",
       "    .dataframe tbody tr th {\n",
       "        vertical-align: top;\n",
       "    }\n",
       "\n",
       "    .dataframe thead th {\n",
       "        text-align: right;\n",
       "    }\n",
       "</style>\n",
       "<table border=\"1\" class=\"dataframe\">\n",
       "  <thead>\n",
       "    <tr style=\"text-align: right;\">\n",
       "      <th></th>\n",
       "      <th>id</th>\n",
       "      <th>landmark_id</th>\n",
       "      <th>filename</th>\n",
       "    </tr>\n",
       "  </thead>\n",
       "  <tbody>\n",
       "    <tr>\n",
       "      <th>0</th>\n",
       "      <td>4cddf5dfec480378</td>\n",
       "      <td>10900</td>\n",
       "      <td>data/trainImages/4cddf5dfec480378.jpg</td>\n",
       "    </tr>\n",
       "    <tr>\n",
       "      <th>1</th>\n",
       "      <td>e892105697730cd0</td>\n",
       "      <td>9633</td>\n",
       "      <td>data/trainImages/e892105697730cd0.jpg</td>\n",
       "    </tr>\n",
       "    <tr>\n",
       "      <th>2</th>\n",
       "      <td>e6ca7e6d1fb0c30e</td>\n",
       "      <td>7979</td>\n",
       "      <td>data/trainImages/e6ca7e6d1fb0c30e.jpg</td>\n",
       "    </tr>\n",
       "    <tr>\n",
       "      <th>3</th>\n",
       "      <td>5b7e170e3f82df79</td>\n",
       "      <td>8487</td>\n",
       "      <td>data/trainImages/5b7e170e3f82df79.jpg</td>\n",
       "    </tr>\n",
       "    <tr>\n",
       "      <th>4</th>\n",
       "      <td>8bb30ed8ded320b5</td>\n",
       "      <td>10045</td>\n",
       "      <td>data/trainImages/8bb30ed8ded320b5.jpg</td>\n",
       "    </tr>\n",
       "  </tbody>\n",
       "</table>\n",
       "</div>"
      ],
      "text/plain": [
       "                 id  landmark_id                               filename\n",
       "0  4cddf5dfec480378        10900  data/trainImages/4cddf5dfec480378.jpg\n",
       "1  e892105697730cd0         9633  data/trainImages/e892105697730cd0.jpg\n",
       "2  e6ca7e6d1fb0c30e         7979  data/trainImages/e6ca7e6d1fb0c30e.jpg\n",
       "3  5b7e170e3f82df79         8487  data/trainImages/5b7e170e3f82df79.jpg\n",
       "4  8bb30ed8ded320b5        10045  data/trainImages/8bb30ed8ded320b5.jpg"
      ]
     },
     "metadata": {},
     "output_type": "display_data"
    },
    {
     "data": {
      "text/plain": [
       "(355742, 3)"
      ]
     },
     "metadata": {},
     "output_type": "display_data"
    }
   ],
   "source": [
    "train_3 = pd.read_table('data/trainImagesList_3',delim_whitespace=True, names=['id', 'landmark_id', 'filename'])\n",
    "display(train_3.head())\n",
    "display(train_3.shape)"
   ]
  },
  {
   "cell_type": "code",
   "execution_count": 37,
   "metadata": {},
   "outputs": [
    {
     "data": {
      "text/html": [
       "<div>\n",
       "<style scoped>\n",
       "    .dataframe tbody tr th:only-of-type {\n",
       "        vertical-align: middle;\n",
       "    }\n",
       "\n",
       "    .dataframe tbody tr th {\n",
       "        vertical-align: top;\n",
       "    }\n",
       "\n",
       "    .dataframe thead th {\n",
       "        text-align: right;\n",
       "    }\n",
       "</style>\n",
       "<table border=\"1\" class=\"dataframe\">\n",
       "  <thead>\n",
       "    <tr style=\"text-align: right;\">\n",
       "      <th></th>\n",
       "      <th>id</th>\n",
       "      <th>landmark_id</th>\n",
       "      <th>filename</th>\n",
       "    </tr>\n",
       "  </thead>\n",
       "  <tbody>\n",
       "    <tr>\n",
       "      <th>0</th>\n",
       "      <td>06d49a0afae85553</td>\n",
       "      <td>12936</td>\n",
       "      <td>data/trainImages/06d49a0afae85553.jpg</td>\n",
       "    </tr>\n",
       "    <tr>\n",
       "      <th>1</th>\n",
       "      <td>42b03df8b832fe0f</td>\n",
       "      <td>2473</td>\n",
       "      <td>data/trainImages/42b03df8b832fe0f.jpg</td>\n",
       "    </tr>\n",
       "    <tr>\n",
       "      <th>2</th>\n",
       "      <td>932b4ffd43391207</td>\n",
       "      <td>11678</td>\n",
       "      <td>data/trainImages/932b4ffd43391207.jpg</td>\n",
       "    </tr>\n",
       "    <tr>\n",
       "      <th>3</th>\n",
       "      <td>e1ca753e1af7134f</td>\n",
       "      <td>393</td>\n",
       "      <td>data/trainImages/e1ca753e1af7134f.jpg</td>\n",
       "    </tr>\n",
       "    <tr>\n",
       "      <th>4</th>\n",
       "      <td>b99c95501af86857</td>\n",
       "      <td>10281</td>\n",
       "      <td>data/trainImages/b99c95501af86857.jpg</td>\n",
       "    </tr>\n",
       "  </tbody>\n",
       "</table>\n",
       "</div>"
      ],
      "text/plain": [
       "                 id  landmark_id                               filename\n",
       "0  06d49a0afae85553        12936  data/trainImages/06d49a0afae85553.jpg\n",
       "1  42b03df8b832fe0f         2473  data/trainImages/42b03df8b832fe0f.jpg\n",
       "2  932b4ffd43391207        11678  data/trainImages/932b4ffd43391207.jpg\n",
       "3  e1ca753e1af7134f          393  data/trainImages/e1ca753e1af7134f.jpg\n",
       "4  b99c95501af86857        10281  data/trainImages/b99c95501af86857.jpg"
      ]
     },
     "metadata": {},
     "output_type": "display_data"
    },
    {
     "data": {
      "text/plain": [
       "(87410, 3)"
      ]
     },
     "metadata": {},
     "output_type": "display_data"
    }
   ],
   "source": [
    "train_5 = pd.read_table('data/trainImagesList_5',delim_whitespace=True, names=['id', 'landmark_id', 'filename'])\n",
    "display(train_5.head())\n",
    "display(train_5.shape)"
   ]
  },
  {
   "cell_type": "code",
   "execution_count": 38,
   "metadata": {},
   "outputs": [
    {
     "data": {
      "text/html": [
       "<div>\n",
       "<style scoped>\n",
       "    .dataframe tbody tr th:only-of-type {\n",
       "        vertical-align: middle;\n",
       "    }\n",
       "\n",
       "    .dataframe tbody tr th {\n",
       "        vertical-align: top;\n",
       "    }\n",
       "\n",
       "    .dataframe thead th {\n",
       "        text-align: right;\n",
       "    }\n",
       "</style>\n",
       "<table border=\"1\" class=\"dataframe\">\n",
       "  <thead>\n",
       "    <tr style=\"text-align: right;\">\n",
       "      <th></th>\n",
       "      <th>id</th>\n",
       "      <th>landmark_id</th>\n",
       "      <th>filename</th>\n",
       "    </tr>\n",
       "  </thead>\n",
       "  <tbody>\n",
       "    <tr>\n",
       "      <th>0</th>\n",
       "      <td>4cddf5dfec480378</td>\n",
       "      <td>10900</td>\n",
       "      <td>data/trainImages/4cddf5dfec480378.jpg</td>\n",
       "    </tr>\n",
       "    <tr>\n",
       "      <th>1</th>\n",
       "      <td>e892105697730cd0</td>\n",
       "      <td>9633</td>\n",
       "      <td>data/trainImages/e892105697730cd0.jpg</td>\n",
       "    </tr>\n",
       "    <tr>\n",
       "      <th>2</th>\n",
       "      <td>e6ca7e6d1fb0c30e</td>\n",
       "      <td>7979</td>\n",
       "      <td>data/trainImages/e6ca7e6d1fb0c30e.jpg</td>\n",
       "    </tr>\n",
       "    <tr>\n",
       "      <th>3</th>\n",
       "      <td>5b7e170e3f82df79</td>\n",
       "      <td>8487</td>\n",
       "      <td>data/trainImages/5b7e170e3f82df79.jpg</td>\n",
       "    </tr>\n",
       "    <tr>\n",
       "      <th>4</th>\n",
       "      <td>8bb30ed8ded320b5</td>\n",
       "      <td>10045</td>\n",
       "      <td>data/trainImages/8bb30ed8ded320b5.jpg</td>\n",
       "    </tr>\n",
       "  </tbody>\n",
       "</table>\n",
       "</div>"
      ],
      "text/plain": [
       "                 id  landmark_id                               filename\n",
       "0  4cddf5dfec480378        10900  data/trainImages/4cddf5dfec480378.jpg\n",
       "1  e892105697730cd0         9633  data/trainImages/e892105697730cd0.jpg\n",
       "2  e6ca7e6d1fb0c30e         7979  data/trainImages/e6ca7e6d1fb0c30e.jpg\n",
       "3  5b7e170e3f82df79         8487  data/trainImages/5b7e170e3f82df79.jpg\n",
       "4  8bb30ed8ded320b5        10045  data/trainImages/8bb30ed8ded320b5.jpg"
      ]
     },
     "metadata": {},
     "output_type": "display_data"
    },
    {
     "name": "stdout",
     "output_type": "stream",
     "text": [
      "(665064, 3)\n"
     ]
    },
    {
     "data": {
      "text/html": [
       "<div>\n",
       "<style scoped>\n",
       "    .dataframe tbody tr th:only-of-type {\n",
       "        vertical-align: middle;\n",
       "    }\n",
       "\n",
       "    .dataframe tbody tr th {\n",
       "        vertical-align: top;\n",
       "    }\n",
       "\n",
       "    .dataframe thead th {\n",
       "        text-align: right;\n",
       "    }\n",
       "</style>\n",
       "<table border=\"1\" class=\"dataframe\">\n",
       "  <thead>\n",
       "    <tr style=\"text-align: right;\">\n",
       "      <th></th>\n",
       "      <th>id</th>\n",
       "      <th>landmark_id</th>\n",
       "      <th>filename</th>\n",
       "    </tr>\n",
       "  </thead>\n",
       "  <tbody>\n",
       "    <tr>\n",
       "      <th>0</th>\n",
       "      <td>4cddf5dfec480378</td>\n",
       "      <td>10900</td>\n",
       "      <td>data/trainImages/4cddf5dfec480378.jpg</td>\n",
       "    </tr>\n",
       "    <tr>\n",
       "      <th>1</th>\n",
       "      <td>e892105697730cd0</td>\n",
       "      <td>9633</td>\n",
       "      <td>data/trainImages/e892105697730cd0.jpg</td>\n",
       "    </tr>\n",
       "    <tr>\n",
       "      <th>2</th>\n",
       "      <td>e6ca7e6d1fb0c30e</td>\n",
       "      <td>7979</td>\n",
       "      <td>data/trainImages/e6ca7e6d1fb0c30e.jpg</td>\n",
       "    </tr>\n",
       "    <tr>\n",
       "      <th>3</th>\n",
       "      <td>5b7e170e3f82df79</td>\n",
       "      <td>8487</td>\n",
       "      <td>data/trainImages/5b7e170e3f82df79.jpg</td>\n",
       "    </tr>\n",
       "    <tr>\n",
       "      <th>4</th>\n",
       "      <td>8bb30ed8ded320b5</td>\n",
       "      <td>10045</td>\n",
       "      <td>data/trainImages/8bb30ed8ded320b5.jpg</td>\n",
       "    </tr>\n",
       "  </tbody>\n",
       "</table>\n",
       "</div>"
      ],
      "text/plain": [
       "                 id  landmark_id                               filename\n",
       "0  4cddf5dfec480378        10900  data/trainImages/4cddf5dfec480378.jpg\n",
       "1  e892105697730cd0         9633  data/trainImages/e892105697730cd0.jpg\n",
       "2  e6ca7e6d1fb0c30e         7979  data/trainImages/e6ca7e6d1fb0c30e.jpg\n",
       "3  5b7e170e3f82df79         8487  data/trainImages/5b7e170e3f82df79.jpg\n",
       "4  8bb30ed8ded320b5        10045  data/trainImages/8bb30ed8ded320b5.jpg"
      ]
     },
     "metadata": {},
     "output_type": "display_data"
    },
    {
     "name": "stdout",
     "output_type": "stream",
     "text": [
      "(752474, 3)\n"
     ]
    }
   ],
   "source": [
    "# result = pd.merge(train, train_1, how='left', on=['id', 'landmark_id', 'filename'])\n",
    "result = train.append(train_3, ignore_index=True)\n",
    "display(result.head())\n",
    "print(result.shape)\n",
    "result = result.append(train_5, ignore_index=True)\n",
    "display(result.head())\n",
    "print(result.shape)"
   ]
  },
  {
   "cell_type": "code",
   "execution_count": 39,
   "metadata": {},
   "outputs": [
    {
     "data": {
      "text/html": [
       "<div>\n",
       "<style scoped>\n",
       "    .dataframe tbody tr th:only-of-type {\n",
       "        vertical-align: middle;\n",
       "    }\n",
       "\n",
       "    .dataframe tbody tr th {\n",
       "        vertical-align: top;\n",
       "    }\n",
       "\n",
       "    .dataframe thead th {\n",
       "        text-align: right;\n",
       "    }\n",
       "</style>\n",
       "<table border=\"1\" class=\"dataframe\">\n",
       "  <thead>\n",
       "    <tr style=\"text-align: right;\">\n",
       "      <th></th>\n",
       "      <th>id</th>\n",
       "      <th>landmark_id</th>\n",
       "      <th>filename</th>\n",
       "    </tr>\n",
       "  </thead>\n",
       "  <tbody>\n",
       "    <tr>\n",
       "      <th>0</th>\n",
       "      <td>4cddf5dfec480378</td>\n",
       "      <td>10900</td>\n",
       "      <td>data/trainImages/4cddf5dfec480378.jpg</td>\n",
       "    </tr>\n",
       "    <tr>\n",
       "      <th>1</th>\n",
       "      <td>e892105697730cd0</td>\n",
       "      <td>9633</td>\n",
       "      <td>data/trainImages/e892105697730cd0.jpg</td>\n",
       "    </tr>\n",
       "    <tr>\n",
       "      <th>2</th>\n",
       "      <td>e6ca7e6d1fb0c30e</td>\n",
       "      <td>7979</td>\n",
       "      <td>data/trainImages/e6ca7e6d1fb0c30e.jpg</td>\n",
       "    </tr>\n",
       "    <tr>\n",
       "      <th>3</th>\n",
       "      <td>5b7e170e3f82df79</td>\n",
       "      <td>8487</td>\n",
       "      <td>data/trainImages/5b7e170e3f82df79.jpg</td>\n",
       "    </tr>\n",
       "    <tr>\n",
       "      <th>4</th>\n",
       "      <td>8bb30ed8ded320b5</td>\n",
       "      <td>10045</td>\n",
       "      <td>data/trainImages/8bb30ed8ded320b5.jpg</td>\n",
       "    </tr>\n",
       "  </tbody>\n",
       "</table>\n",
       "</div>"
      ],
      "text/plain": [
       "                 id  landmark_id                               filename\n",
       "0  4cddf5dfec480378        10900  data/trainImages/4cddf5dfec480378.jpg\n",
       "1  e892105697730cd0         9633  data/trainImages/e892105697730cd0.jpg\n",
       "2  e6ca7e6d1fb0c30e         7979  data/trainImages/e6ca7e6d1fb0c30e.jpg\n",
       "3  5b7e170e3f82df79         8487  data/trainImages/5b7e170e3f82df79.jpg\n",
       "4  8bb30ed8ded320b5        10045  data/trainImages/8bb30ed8ded320b5.jpg"
      ]
     },
     "metadata": {},
     "output_type": "display_data"
    },
    {
     "name": "stdout",
     "output_type": "stream",
     "text": [
      "(593365, 3)\n"
     ]
    }
   ],
   "source": [
    "result = result.drop_duplicates()\n",
    "display(result.head())\n",
    "print(result.shape)"
   ]
  },
  {
   "cell_type": "code",
   "execution_count": 40,
   "metadata": {},
   "outputs": [],
   "source": [
    "# result.to_csv('data/trainImagesFinal', sep=',', index=False)\n",
    "result.to_csv('data/trainImagesFinal', index=False)"
   ]
  },
  {
   "cell_type": "code",
   "execution_count": 41,
   "metadata": {},
   "outputs": [
    {
     "name": "stdout",
     "output_type": "stream",
     "text": [
      "(593365, 3)\n"
     ]
    },
    {
     "data": {
      "text/html": [
       "<div>\n",
       "<style scoped>\n",
       "    .dataframe tbody tr th:only-of-type {\n",
       "        vertical-align: middle;\n",
       "    }\n",
       "\n",
       "    .dataframe tbody tr th {\n",
       "        vertical-align: top;\n",
       "    }\n",
       "\n",
       "    .dataframe thead th {\n",
       "        text-align: right;\n",
       "    }\n",
       "</style>\n",
       "<table border=\"1\" class=\"dataframe\">\n",
       "  <thead>\n",
       "    <tr style=\"text-align: right;\">\n",
       "      <th></th>\n",
       "      <th>id</th>\n",
       "      <th>landmark_id</th>\n",
       "      <th>filename</th>\n",
       "    </tr>\n",
       "  </thead>\n",
       "  <tbody>\n",
       "    <tr>\n",
       "      <th>0</th>\n",
       "      <td>4cddf5dfec480378</td>\n",
       "      <td>10900</td>\n",
       "      <td>data/trainImages/4cddf5dfec480378.jpg</td>\n",
       "    </tr>\n",
       "    <tr>\n",
       "      <th>1</th>\n",
       "      <td>e892105697730cd0</td>\n",
       "      <td>9633</td>\n",
       "      <td>data/trainImages/e892105697730cd0.jpg</td>\n",
       "    </tr>\n",
       "    <tr>\n",
       "      <th>2</th>\n",
       "      <td>e6ca7e6d1fb0c30e</td>\n",
       "      <td>7979</td>\n",
       "      <td>data/trainImages/e6ca7e6d1fb0c30e.jpg</td>\n",
       "    </tr>\n",
       "    <tr>\n",
       "      <th>3</th>\n",
       "      <td>5b7e170e3f82df79</td>\n",
       "      <td>8487</td>\n",
       "      <td>data/trainImages/5b7e170e3f82df79.jpg</td>\n",
       "    </tr>\n",
       "    <tr>\n",
       "      <th>4</th>\n",
       "      <td>8bb30ed8ded320b5</td>\n",
       "      <td>10045</td>\n",
       "      <td>data/trainImages/8bb30ed8ded320b5.jpg</td>\n",
       "    </tr>\n",
       "  </tbody>\n",
       "</table>\n",
       "</div>"
      ],
      "text/plain": [
       "                 id  landmark_id                               filename\n",
       "0  4cddf5dfec480378        10900  data/trainImages/4cddf5dfec480378.jpg\n",
       "1  e892105697730cd0         9633  data/trainImages/e892105697730cd0.jpg\n",
       "2  e6ca7e6d1fb0c30e         7979  data/trainImages/e6ca7e6d1fb0c30e.jpg\n",
       "3  5b7e170e3f82df79         8487  data/trainImages/5b7e170e3f82df79.jpg\n",
       "4  8bb30ed8ded320b5        10045  data/trainImages/8bb30ed8ded320b5.jpg"
      ]
     },
     "metadata": {},
     "output_type": "display_data"
    }
   ],
   "source": [
    "check = pd.read_csv('data/trainImagesFinal')\n",
    "print(check.shape)\n",
    "display(check.head())"
   ]
  }
 ],
 "metadata": {
  "kernelspec": {
   "display_name": "Python [conda env:tfgpu]",
   "language": "python",
   "name": "conda-env-tfgpu-py"
  },
  "language_info": {
   "codemirror_mode": {
    "name": "ipython",
    "version": 3
   },
   "file_extension": ".py",
   "mimetype": "text/x-python",
   "name": "python",
   "nbconvert_exporter": "python",
   "pygments_lexer": "ipython3",
   "version": "3.5.5"
  }
 },
 "nbformat": 4,
 "nbformat_minor": 2
}
